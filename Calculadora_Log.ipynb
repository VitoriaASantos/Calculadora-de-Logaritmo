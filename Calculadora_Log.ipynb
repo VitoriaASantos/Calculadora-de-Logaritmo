{
  "nbformat": 4,
  "nbformat_minor": 0,
  "metadata": {
    "colab": {
      "name": "Calculadora_Log.ipynb",
      "provenance": []
    },
    "kernelspec": {
      "name": "python3",
      "display_name": "Python 3"
    },
    "language_info": {
      "name": "python"
    }
  },
  "cells": [
    {
      "cell_type": "code",
      "metadata": {
        "colab": {
          "base_uri": "https://localhost:8080/"
        },
        "id": "kDmHa4THOpAj",
        "outputId": "4c542438-6d2b-4f84-8438-25d72e0bd5bd"
      },
      "source": [
        "#Importação das funções matemáticas\n",
        "import math\n",
        "\n",
        "#Cabeçalho da calculadora\n",
        "print (\"CALCULADORA DE LOGARITMO\")\n",
        "print (\"\\nInstruções aos usuários: \")\n",
        "\n",
        "#Inicio da coleta de inteção do usuário\n",
        "escolha = int(input(\"\\nEscolha a base do logaritmo que deseja calcular:\\n1 - Base e\\n2 - Base 2 \\n10 - Base 10\\n0 - Base Outras Bases\\n\\nBase = \"))\n",
        "\n",
        "#No caso da escolha da base 10\n",
        "if escolha == 10:\n",
        "  num10 = int(input(\"Digite o número que deseja calcular na base 10: \"))\n",
        "  print(\"\\nO resultado de\", num10,\"na base\", escolha,\"é:\", math.log10(num10))\n",
        "  \n",
        "#No caso da escolha da base 2\n",
        "elif escolha == 2:\n",
        "  num2 = int(input(\"Digite o número que deseja calcular na base 2: \"))\n",
        "  print(\"\\nO resultado de\", num2,\"na base\", escolha,\"é:\", math.log2(num2))\n",
        "\n",
        "#No caso da escolha da base e\n",
        "elif escolha == 1:\n",
        "  num_e = int(input(\"Digite o número que deseja calcular na base e: \"))\n",
        "  print(\"\\nO resultado de\", num_e,\"na base\", escolha,\"é:\", math.exp(num_e))\n",
        "  \n",
        "#No caso da escolha de outras bases != 10 ou 2\n",
        "elif escolha == 0:\n",
        "  base = float(input(\"Digite a base do logaritmo que deseja calcular: \"))\n",
        "  num_x = float(input(\"Digite o número que deseja calcular na base escolhida:\"))\n",
        "  print(\"\\nO resultado de\", num_x,\"na base\", base,\"é: \", math.log(num_x,base))\n",
        "  \n",
        "#Caso seja digitado um número != das opções\n",
        "else:\n",
        "  print(\"Comando inválido!\")"
      ],
      "execution_count": null,
      "outputs": [
        {
          "output_type": "stream",
          "text": [
            "CALCULADORA DE LOGARITMO\n",
            "\n",
            "Instruções aos usuários: \n"
          ],
          "name": "stdout"
        }
      ]
    }
  ]
}